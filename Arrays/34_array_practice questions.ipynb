{
 "cells": [
  {
   "cell_type": "markdown",
   "metadata": {},
   "source": [
    "### Q1- create an array and Traverse."
   ]
  },
  {
   "cell_type": "code",
   "execution_count": 4,
   "metadata": {},
   "outputs": [],
   "source": [
    "import array"
   ]
  },
  {
   "cell_type": "code",
   "execution_count": 5,
   "metadata": {},
   "outputs": [
    {
     "name": "stdout",
     "output_type": "stream",
     "text": [
      "array('u', 'abc')\n",
      "a\n",
      "b\n",
      "c\n"
     ]
    }
   ],
   "source": [
    "arr=array.array('u',[\"a\",\"b\",\"c\"])\n",
    "print(arr)\n",
    "for i in arr:\n",
    "    print(i)"
   ]
  },
  {
   "cell_type": "markdown",
   "metadata": {},
   "source": [
    "### Q2- Access individual elements through indexes"
   ]
  },
  {
   "cell_type": "code",
   "execution_count": 6,
   "metadata": {},
   "outputs": [
    {
     "name": "stdout",
     "output_type": "stream",
     "text": [
      "array('u', 'abc')\n",
      "a\n",
      "b\n",
      "c\n"
     ]
    }
   ],
   "source": [
    "arr=array.array('u',[\"a\",\"b\",\"c\"])\n",
    "print(arr)\n",
    "for i in range(len(arr)):\n",
    "    print(arr[i])"
   ]
  },
  {
   "cell_type": "markdown",
   "metadata": {},
   "source": [
    "### Q3-append any value to the array using append method"
   ]
  },
  {
   "cell_type": "code",
   "execution_count": 7,
   "metadata": {},
   "outputs": [
    {
     "name": "stdout",
     "output_type": "stream",
     "text": [
      "array('i', [10, 20, 30, 40, 50])\n",
      "array('i', [10, 20, 30, 40, 50, 100])\n"
     ]
    }
   ],
   "source": [
    "arr=array.array('i',[10,20,30,40,50])\n",
    "print(arr)\n",
    "arr.append(100)\n",
    "print(arr)\n"
   ]
  },
  {
   "cell_type": "markdown",
   "metadata": {},
   "source": [
    "### Q4- inserting values in the array using insert() method"
   ]
  },
  {
   "cell_type": "code",
   "execution_count": 8,
   "metadata": {},
   "outputs": [
    {
     "name": "stdout",
     "output_type": "stream",
     "text": [
      "array('i', [10, 20, 30, 40, 50])\n",
      "array('i', [10, 20, 120, 30, 40, 50])\n"
     ]
    }
   ],
   "source": [
    "arr=array.array('i',[10,20,30,40,50])\n",
    "print(arr)\n",
    "arr.insert(2,120)\n",
    "print(arr)"
   ]
  },
  {
   "cell_type": "markdown",
   "metadata": {},
   "source": [
    "### Q5- extend the python array using extend method.\n",
    "##### NOTE: extend() method is used to extend(i.e append) an array with more than 1 value"
   ]
  },
  {
   "cell_type": "code",
   "execution_count": 9,
   "metadata": {},
   "outputs": [
    {
     "name": "stdout",
     "output_type": "stream",
     "text": [
      "array('i', [10, 20, 30, 40, 50])\n",
      "array('i', [100, 200, 300, 400])\n",
      "array('i', [10, 20, 30, 40, 50, 100, 200, 300, 400])\n"
     ]
    }
   ],
   "source": [
    "arr1=array.array('i',[10,20,30,40,50])\n",
    "arr2=array.array('i',[100,200,300,400])\n",
    "print(arr1)\n",
    "print(arr2)\n",
    "arr1.extend(arr2)\n",
    "print(arr1)"
   ]
  },
  {
   "cell_type": "markdown",
   "metadata": {},
   "source": [
    "### Q6- Adding items from list into array using fromlist() method\n",
    "###### NOTE: fromlist() method is used to append a list to the array"
   ]
  },
  {
   "cell_type": "code",
   "execution_count": 10,
   "metadata": {},
   "outputs": [
    {
     "name": "stdout",
     "output_type": "stream",
     "text": [
      "array('i', [10, 20, 30, 40, 50, 100, 200, 300, 400])\n"
     ]
    }
   ],
   "source": [
    "arr1=array.array('i',[10,20,30,40,50])\n",
    "tempList=[100,200,300,400]\n",
    "arr1.fromlist(tempList)\n",
    "print(arr1)"
   ]
  },
  {
   "cell_type": "markdown",
   "metadata": {},
   "source": [
    "### Q7-Removing an element from remove()\n"
   ]
  },
  {
   "cell_type": "code",
   "execution_count": 14,
   "metadata": {},
   "outputs": [
    {
     "name": "stdout",
     "output_type": "stream",
     "text": [
      "array('i', [10, 20, 30, 40, 50, 50])\n",
      "array('i', [10, 30, 40, 50, 50])\n",
      "array('i', [10, 30, 40, 50])\n"
     ]
    }
   ],
   "source": [
    "arr1=array.array('i',[10,20,30,40,50,50]) # there are two 50 values->the first duplicate value will be removed\n",
    "# and the remove() method doesn't search for the next duplicate value\n",
    "print(arr1)\n",
    "arr1.remove(20)\n",
    "print(arr1)\n",
    "arr1.remove(50)\n",
    "print(arr1)"
   ]
  },
  {
   "cell_type": "markdown",
   "metadata": {},
   "source": [
    "### Q8- remove last element using pop() method\n"
   ]
  },
  {
   "cell_type": "code",
   "execution_count": 16,
   "metadata": {},
   "outputs": [
    {
     "name": "stdout",
     "output_type": "stream",
     "text": [
      "array('i', [10, 20, 30, 40, 50, 80])\n",
      "array('i', [10, 20, 30, 40, 50])\n"
     ]
    }
   ],
   "source": [
    "arr1=array.array('i',[10,20,30,40,50,80])\n",
    "print(arr1)\n",
    "arr1.pop()\n",
    "print(arr1)"
   ]
  },
  {
   "cell_type": "markdown",
   "metadata": {},
   "source": [
    "### Q9- Fetch any element using through its index using index() method"
   ]
  },
  {
   "cell_type": "code",
   "execution_count": 17,
   "metadata": {},
   "outputs": [
    {
     "name": "stdout",
     "output_type": "stream",
     "text": [
      "array('i', [10, 20, 30, 40, 50, 80])\n",
      "0\n",
      "1\n",
      "2\n",
      "3\n",
      "4\n",
      "5\n"
     ]
    }
   ],
   "source": [
    "arr1=array.array('i',[10,20,30,40,50,80])\n",
    "print(arr1)\n",
    "print(arr1.index(10))\n",
    "print(arr1.index(20))\n",
    "print(arr1.index(30))\n",
    "print(arr1.index(40))\n",
    "print(arr1.index(50))\n",
    "print(arr1.index(80))\n"
   ]
  },
  {
   "cell_type": "markdown",
   "metadata": {},
   "source": [
    "### Q10- Reverse a python array using reverse() method"
   ]
  },
  {
   "cell_type": "code",
   "execution_count": 18,
   "metadata": {},
   "outputs": [
    {
     "name": "stdout",
     "output_type": "stream",
     "text": [
      "array('i', [10, 20, 30, 40, 50, 80])\n",
      "array('i', [80, 50, 40, 30, 20, 10])\n"
     ]
    }
   ],
   "source": [
    "arr1=array.array('i',[10,20,30,40,50,80])\n",
    "print(arr1)\n",
    "arr1.reverse()\n",
    "print(arr1)"
   ]
  },
  {
   "cell_type": "markdown",
   "metadata": {},
   "source": [
    "### Q11- Get Buffer Information through buffer_info() method"
   ]
  },
  {
   "cell_type": "code",
   "execution_count": 19,
   "metadata": {},
   "outputs": [
    {
     "name": "stdout",
     "output_type": "stream",
     "text": [
      "(1304600363824, 6)\n"
     ]
    }
   ],
   "source": [
    "arr1=array.array('i',[10,20,30,40,50,80])\n",
    "print(arr1.buffer_info())"
   ]
  },
  {
   "cell_type": "markdown",
   "metadata": {},
   "source": [
    "### Q12-Check for the number of occurences of an element using count() method."
   ]
  },
  {
   "cell_type": "code",
   "execution_count": 20,
   "metadata": {},
   "outputs": [
    {
     "name": "stdout",
     "output_type": "stream",
     "text": [
      "1\n"
     ]
    }
   ],
   "source": [
    "arr1=array.array('i',[10,20,30,40,50,80])\n",
    "print(arr1.count(80))"
   ]
  },
  {
   "cell_type": "markdown",
   "metadata": {},
   "source": [
    "### Q13-Convert array to string using tostring() method (tostring() is deprecated)"
   ]
  },
  {
   "cell_type": "code",
   "execution_count": 23,
   "metadata": {},
   "outputs": [
    {
     "name": "stdout",
     "output_type": "stream",
     "text": [
      "b'\\n\\x00\\x00\\x00\\x14\\x00\\x00\\x00\\x1e\\x00\\x00\\x00(\\x00\\x00\\x002\\x00\\x00\\x00P\\x00\\x00\\x00'\n",
      "array('i', [10, 20, 30, 40, 50, 80])\n"
     ]
    }
   ],
   "source": [
    "arr1=array.array('i',[10,20,30,40,50,80])\n",
    "tempstr=arr1.tobytes() #converts into string\n",
    "print(tempstr)\n",
    "# converting back to array-\n",
    "temparr=array.array('i')\n",
    "temparr.frombytes(tempstr)\n",
    "print(temparr)"
   ]
  },
  {
   "cell_type": "markdown",
   "metadata": {},
   "source": [
    "### Q14- Convert array to python list with same elments using tolist() method"
   ]
  },
  {
   "cell_type": "code",
   "execution_count": 26,
   "metadata": {},
   "outputs": [
    {
     "name": "stdout",
     "output_type": "stream",
     "text": [
      "[10, 20, 30, 40, 50, 80]\n",
      "<class 'list'>\n"
     ]
    }
   ],
   "source": [
    "arr1=array.array('i',[10,20,30,40,50,80])\n",
    "tempList=arr1.tolist()\n",
    "print(tempList)\n",
    "print(type(tempList))"
   ]
  },
  {
   "cell_type": "markdown",
   "metadata": {},
   "source": [
    "### Q15- append a string to char array using fromstring()[frombytes()] method"
   ]
  },
  {
   "cell_type": "code",
   "execution_count": 30,
   "metadata": {},
   "outputs": [
    {
     "name": "stdout",
     "output_type": "stream",
     "text": [
      "array('u', 'Hibyehello')\n"
     ]
    }
   ],
   "source": [
    "arr1 = array.array('u', ['H', 'i', 'b', 'y', 'e'])\n",
    "\n",
    "str_to_append = 'hello'\n",
    "\n",
    "\n",
    "for char in str_to_append:\n",
    "    arr1.append(char)\n",
    "\n",
    "print(arr1)"
   ]
  },
  {
   "cell_type": "markdown",
   "metadata": {},
   "source": [
    "### Q16-Slice elements from an array"
   ]
  },
  {
   "cell_type": "code",
   "execution_count": 36,
   "metadata": {},
   "outputs": [
    {
     "name": "stdout",
     "output_type": "stream",
     "text": [
      "array('i', [20, 30, 40])\n",
      "array('i', [10, 20, 30, 40])\n",
      "array('i', [10, 20, 30, 40, 50, 80])\n",
      "array('i', [80, 50, 40, 30, 20, 10])\n",
      "array('i', [20, 40])\n"
     ]
    }
   ],
   "source": [
    "arr1=array.array('i',[10,20,30,40,50,80])\n",
    "print(arr1[1:4])\n",
    "print(arr1[:4])\n",
    "print(arr1[:])\n",
    "print(arr1[::-1])\n",
    "print(arr1[1:4:2])\n",
    "\n",
    "\n"
   ]
  },
  {
   "cell_type": "code",
   "execution_count": null,
   "metadata": {},
   "outputs": [],
   "source": []
  }
 ],
 "metadata": {
  "kernelspec": {
   "display_name": "base",
   "language": "python",
   "name": "python3"
  },
  "language_info": {
   "codemirror_mode": {
    "name": "ipython",
    "version": 3
   },
   "file_extension": ".py",
   "mimetype": "text/x-python",
   "name": "python",
   "nbconvert_exporter": "python",
   "pygments_lexer": "ipython3",
   "version": "3.11.7"
  }
 },
 "nbformat": 4,
 "nbformat_minor": 2
}
